{
 "cells": [
  {
   "cell_type": "markdown",
   "id": "b0924ae7",
   "metadata": {},
   "source": [
    "# 1. Numpy y Pandas (limpieza, manipulación y transformación de datos)\n",
    "\n",
    "## Numpy\n",
    "* Es una librería fundamental para computación numérica en Python.\n",
    "* Permite trabajar con arrays (vectores, matrices) de manera más eficicente que las listas nativas de Python.\n",
    "* Se usa mucho para operaciones matemáticas, estadisticas y algebra lineal.\n",
    "  Ejemplo: crear un array y calcular promedio"
   ]
  },
  {
   "cell_type": "code",
   "execution_count": null,
   "id": "1c74e40c",
   "metadata": {},
   "outputs": [],
   "source": [
    "import numpy as np\n",
    "\n",
    "arr = np.array([10,20,30,40])\n",
    "print(arr.mean()) #promedio"
   ]
  },
  {
   "cell_type": "markdown",
   "id": "fb88d0ca",
   "metadata": {},
   "source": [
    "## Pandas\n",
    "* Es la librería más usada para análisis y manipulación de datos.\n",
    "* se basa en dos estructuras principales:\n",
    "  - Series -> columna de datos.\n",
    "  - DataFrame -> tabla de datos (filas y columnas).\n",
    "\n",
    "#### Funciones más importantes para la limpieza y manipulación:\n",
    "1. Cargar datos: pd.read_csv(), pd.read_excel().\n",
    "2. Exploración: .head(), .info(), .describe().\n",
    "3. Selección: df['columna'], df.loc[], df.iloc[].\n",
    "4. Filtrado: df[df['columna'] > 1000].\n",
    "5. Manejo de valores nulos:\n",
    "   * df.isnull().sum() -> contar nulos.\n",
    "   * df.fillna(valor) -> reemplaza nulos.\n",
    "   * df.dropna() -> eliminar filas con nulos.\n",
    "6. Transformación:\n",
    "   * Crear nuevas columnas: df['Nueva_columna] = ... .\n",
    "   * Operaciones por grupo: df.groupby('Region)['TotalAmount'].sum().\n",
    "   * Ordenar: df.sort_values(by='TotalAmount',ascending=False).\n",
    "\n",
    "## Práctica\n",
    "vamos a:\n",
    "   * Cargar el dataset que creamos.\n",
    "   * Explorar los datos.\n",
    "   * Detectar y manejar valores nulos.\n",
    "   * Hacer algunas transformaciones."
   ]
  },
  {
   "cell_type": "code",
   "execution_count": null,
   "id": "e5b30d07",
   "metadata": {},
   "outputs": [],
   "source": [
    "import pandas as pd\n",
    "import numpy as np\n",
    "\n",
    "# 1. Cargar el dataset\n",
    "df = pd.read_excel('transacciones.xlsx')"
   ]
  },
  {
   "cell_type": "code",
   "execution_count": null,
   "id": "3f65928e",
   "metadata": {},
   "outputs": [],
   "source": [
    "# 2. Explorar los datos\n",
    "print(df.head())    # primeras 10 filas\n",
    "print(df.info())    # tipos de datos y nulos\n",
    "print(df.describe())  # estadisticas numéricas"
   ]
  },
  {
   "cell_type": "code",
   "execution_count": null,
   "id": "0edb0b1f",
   "metadata": {},
   "outputs": [],
   "source": [
    "# 3. Detectar nulos\n",
    "print(df.isnull().sum())"
   ]
  },
  {
   "cell_type": "code",
   "execution_count": null,
   "id": "f8a9b6e8",
   "metadata": {},
   "outputs": [],
   "source": [
    "# 4. Manejo de nulos:\n",
    "\n",
    "# llenar ToralAmount nulo con la media\n",
    "df['TotalAmount'] = df['TotalAmount'].fillna(df['TotalAmount'].mean())\n",
    "\n",
    "# Rellenar 'Region' con 'Desconocido'\n",
    "df['Region'] = df['Region'].fillna('Desconocido')\n",
    "\n",
    "# Rellenar 'Product' con 'Sin especificar'\n",
    "df['Product'] = df['Product'].fillna('Sin especificar')\n",
    "\n",
    "print(df.isnull().sum())"
   ]
  },
  {
   "cell_type": "code",
   "execution_count": null,
   "id": "c207d26f",
   "metadata": {},
   "outputs": [],
   "source": [
    "# 5. Crear nueva columna:\n",
    "\n",
    "# precio promedio por unidad\n",
    "df['UnitPrice'] = df['TotalAmount']/df['Quantity']\n",
    "\n",
    "# Columna de validación: TotalAmount = Quantity * UnitPrice\n",
    "df['CalcTotal'] = df['Quantity']*df['UnitPrice']\n",
    "df['CheckTotal'] = np.isclose(df['CalcTotal'],df['TotalAmount'])\n",
    "\n",
    "print(df.info())"
   ]
  },
  {
   "cell_type": "code",
   "execution_count": null,
   "id": "bebac0af",
   "metadata": {},
   "outputs": [],
   "source": [
    "# 6. Filtrar datos:\n",
    "\n",
    "# las ventas donde la cantidad sea mayor a 5\n",
    "ventas_cantidades_grandes = df[df['Quantity']>5]\n",
    "\n",
    "# Transacciones con 'TotalAmount' mayores a 500\n",
    "ventas_valores_grandes = df[df['TotalAmount']>500]\n",
    "\n",
    "print('Ventas cantidades grandes\\n',ventas_cantidades_grandes)\n",
    "print('Ventas montos grandes\\n',ventas_valores_grandes)"
   ]
  },
  {
   "cell_type": "code",
   "execution_count": null,
   "id": "0bc6eb24",
   "metadata": {},
   "outputs": [],
   "source": [
    "# 7. Agrupar datos:\n",
    "\n",
    "# por región y calcular el total de ventas (suma de las ventas)\n",
    "ventas_por_region = df.groupby('Region')['TotalAmount'].sum()\n",
    "\n",
    "print('Ventas por region y valor total de ventas\\n',ventas_por_region)"
   ]
  },
  {
   "cell_type": "code",
   "execution_count": null,
   "id": "6ef0bc19",
   "metadata": {},
   "outputs": [],
   "source": [
    "# 8. Agrupar y ordenar por producto (cantidad vendida total)\n",
    "ventas_por_producto = df.groupby('Product')['Quantity'].sum().sort_values(ascending=False)\n",
    "\n",
    "print('Ventas por Productos ordenados\\n',ventas_por_producto)"
   ]
  },
  {
   "cell_type": "markdown",
   "id": "0bdccfc8",
   "metadata": {},
   "source": [
    "## Ejercicio\n",
    "con el dataset ventas.csv, realiza lo siguiente:\n",
    "1. Explora los datos:\n",
    "   * Revisa si hay valores nulos en Region y product.\n",
    "   * Rellenalos con \"Desconocido\" y \"Sin especificar\".\n",
    "2. Validación de cálculos:\n",
    "   * Verifica que TotalAmount = Quantity * UnitPrice.\n",
    "   * Crea una columna CheckTotal con True/False.\n",
    "3. Filtros:\n",
    "   * Filtra todas las ventas de la región \"Norte\" con monto mayor a 1000.\n",
    "4. Agrupaciones:\n",
    "   * Obten el top 3 de productos más vendidos por cantidad.\n",
    "   * Calcula el ingreso total por región.\n",
    "5. Análisis temporal:\n",
    "   * Calcula la suma total de ventas por mes.\n",
    "6. Extra Challenge:\n",
    "   * ¿Cual es el día con mayor venta total?\n"
   ]
  },
  {
   "cell_type": "code",
   "execution_count": null,
   "id": "0780c3ed",
   "metadata": {},
   "outputs": [],
   "source": [
    "# Excercise\n",
    "\n",
    "# libraries\n",
    "import numpy as np\n",
    "import pandas as pd"
   ]
  },
  {
   "cell_type": "code",
   "execution_count": null,
   "id": "4e042bb7",
   "metadata": {},
   "outputs": [],
   "source": [
    "# reading data\n",
    "df = pd.read_csv('ventas.csv')\n",
    "\n",
    "\n",
    "# Exploration\n",
    "print(df.head())\n",
    "print(df.info())\n",
    "print(df.describe())"
   ]
  },
  {
   "cell_type": "code",
   "execution_count": null,
   "id": "67ef72ef",
   "metadata": {},
   "outputs": [],
   "source": [
    "# checking null data\n",
    "print(df.isnull().sum())"
   ]
  },
  {
   "cell_type": "code",
   "execution_count": null,
   "id": "b90f299a",
   "metadata": {},
   "outputs": [],
   "source": [
    "# Replace null data\n",
    "df['Region'] = df['Region'].fillna(\"Desconocido\")\n",
    "df['Product'] = df['Product'].fillna(\"Sin especificar\")\n",
    "\n",
    "print(df.info())"
   ]
  },
  {
   "cell_type": "code",
   "execution_count": null,
   "id": "4da1b3a6",
   "metadata": {},
   "outputs": [],
   "source": [
    "# Checking data Amount = Quanity*UnitPrice\n",
    "df['CheckTotal'] = np.isclose(df['TotalAmount'],df['Quantity']*df['UnitPrice'])\n",
    "\n",
    "print(df.head(5))"
   ]
  },
  {
   "cell_type": "code",
   "execution_count": null,
   "id": "1f040565",
   "metadata": {},
   "outputs": [],
   "source": [
    "#Filters\n",
    "# group by region \"Norte\" and TotalAmount over 1000\n",
    "norte_over_three_thousand = df[(df['Region']=='Norte') & (df['TotalAmount']>1000)]\n",
    "\n",
    "print(norte_over_three_thousand)"
   ]
  },
  {
   "cell_type": "code",
   "execution_count": null,
   "id": "1518cd48",
   "metadata": {},
   "outputs": [],
   "source": [
    "# Groups\n",
    "# top 3 most products sold by quantity\n",
    "top_3_products_by_quantity = df.groupby('Product')['Quantity'].sum().sort_values(ascending=False).head(3)\n",
    "\n",
    "print(top_3_products_by_quantity)\n",
    "\n",
    "# Calculate total profits peer region\n",
    "total_profits_peer_region = df.groupby('Product')['TotalAmount'].sum()\n",
    "\n",
    "print(total_profits_peer_region)"
   ]
  },
  {
   "cell_type": "code",
   "execution_count": null,
   "id": "dc7f7322",
   "metadata": {},
   "outputs": [],
   "source": [
    "# Temporal Analysis\n",
    "\n",
    "# Calculate sum of total sales peer month\n",
    "## transforming date in date type\n",
    "df['Date']=pd.to_datetime(df['Date'])\n",
    "\n",
    "## Calculating the sum of totals\n",
    "sum_totals_peer_month = df.groupby(df['Date'].dt.month_name())['TotalAmount'].sum()\n",
    "\n",
    "\n",
    "print(sum_totals_peer_month)\n",
    "\n"
   ]
  },
  {
   "cell_type": "code",
   "execution_count": null,
   "id": "752cb604",
   "metadata": {},
   "outputs": [],
   "source": [
    "# Challenge\n",
    "# day with more TotalAmount\n",
    "day_with_more_TotalAmount = df.groupby(df['Date'].dt.day_name())['TotalAmount'].sum().sort_values(ascending=False).head(1)\n",
    "\n",
    "print(day_with_more_TotalAmount)"
   ]
  },
  {
   "cell_type": "markdown",
   "id": "4eef9b66",
   "metadata": {},
   "source": [
    "# 2. Matplotlib y Seaborn (Visualización de datos)\n",
    "\n",
    "## Matplotlib\n",
    "* Es la librería base de visualización de datos en Python.\n",
    "* Permite crear gráficos de líneas, barras, dispersión, histogramas, etc.\n",
    "* Es muy flexible pero a veces requiere más código.\n",
    "\n",
    "### Ejemplo"
   ]
  },
  {
   "cell_type": "code",
   "execution_count": null,
   "id": "8bdc34f4",
   "metadata": {},
   "outputs": [],
   "source": [
    "import matplotlib.pyplot as plt\n",
    "\n",
    "plt.plot([1,2,3,4], [10,20,25,30])\n",
    "plt.title('Ejemplo de línea')\n",
    "plt.xlabel('Eje X')\n",
    "plt.ylabel('Eje Y')\n",
    "plt.show()"
   ]
  },
  {
   "cell_type": "markdown",
   "id": "b9d51d16",
   "metadata": {},
   "source": [
    "## Seaborn\n",
    "* Está constituido sobre Matplotlib.\n",
    "* Es más elegante y conciso.\n",
    "* Incluye gráficos estadísticos listos (distribuciones, correlaciones, boxplots).\n",
    "\n",
    "### Ejemplo"
   ]
  },
  {
   "cell_type": "code",
   "execution_count": null,
   "id": "d29e318a",
   "metadata": {},
   "outputs": [],
   "source": [
    "import seaborn as sns\n",
    "import matplotlib.pyplot as plt\n",
    "\n",
    "tips = sns.load_dataset('tips')\n",
    "sns.barplot(x='day',y='total_bill',data=tips)\n",
    "plt.show()"
   ]
  },
  {
   "cell_type": "markdown",
   "id": "98b4434b",
   "metadata": {},
   "source": [
    "## Ejemplos prácticos con el dataset ```ventas.csv```"
   ]
  },
  {
   "cell_type": "code",
   "execution_count": null,
   "id": "c5942c2f",
   "metadata": {},
   "outputs": [],
   "source": [
    "import pandas as pd\n",
    "import matplotlib.pyplot as plt\n",
    "import seaborn as sns\n",
    "\n",
    "df = pd.read_csv('ventas.csv')"
   ]
  },
  {
   "cell_type": "markdown",
   "id": "f80977b2",
   "metadata": {},
   "source": [
    "#### Ejemplo 1: Ventas por Región (Grafico de Barras)"
   ]
  },
  {
   "cell_type": "code",
   "execution_count": null,
   "id": "ea6a7b1d",
   "metadata": {},
   "outputs": [],
   "source": [
    "ventas_region = df.groupby('Region')['TotalAmount'].sum()\n",
    "\n",
    "ventas_region.plot(kind='bar',figsize=(6,4), color='skyblue')\n",
    "plt.title('Ventas totales por Región')\n",
    "plt.ylabel('Monto total')\n",
    "plt.show()"
   ]
  },
  {
   "cell_type": "markdown",
   "id": "1e14356b",
   "metadata": {},
   "source": [
    "#### Ejemplo 2: Distribución de precios unitarios (histograma)"
   ]
  },
  {
   "cell_type": "code",
   "execution_count": null,
   "id": "5a56b539",
   "metadata": {},
   "outputs": [],
   "source": [
    "plt.hist(df['UnitPrice'],bins=20, color='purple',alpha=0.7)\n",
    "plt.title(\"Distribución de Precios Unitarios\")\n",
    "plt.xlabel('Precio unitario')\n",
    "plt.ylabel('Frecuencia')\n",
    "plt.show()"
   ]
  },
  {
   "cell_type": "markdown",
   "id": "a0efca2d",
   "metadata": {},
   "source": [
    "#### Ejemplo 3: Ventas por producto (Seaborn)"
   ]
  },
  {
   "cell_type": "code",
   "execution_count": null,
   "id": "c774015d",
   "metadata": {},
   "outputs": [],
   "source": [
    "sns.barplot(x='Product',y='TotalAmount',data=df,estimator=sum,ci=None)\n",
    "plt.title('Ventas Totales por Producto')\n",
    "plt.xticks(rotation=45)\n",
    "plt.show()"
   ]
  },
  {
   "cell_type": "markdown",
   "id": "a61f6491",
   "metadata": {},
   "source": [
    "#### Ejemplo 4: Relación entre cantidad y monto total (scatterplot)"
   ]
  },
  {
   "cell_type": "code",
   "execution_count": null,
   "id": "7fb02c8c",
   "metadata": {},
   "outputs": [],
   "source": [
    "sns.scatterplot(x='Quantity', y='TotalAmount',hue='Region', data=df,)\n",
    "plt.title(\"Relación entre Cantidad y Monto\")\n",
    "plt.show()"
   ]
  },
  {
   "cell_type": "markdown",
   "id": "49074a98",
   "metadata": {},
   "source": [
    "## Ejercicio de Práctica\n",
    "con el dataset ```ventas.csv```, realiza los siguientes gráficos:\n",
    "1. Barras: Monto total de ventas por Región.\n",
    "2. Linea temporal: Evolución de ventas diarias.\n",
    "3. Boxplot: Distribución de precios unitarios (`UnitPrice`) por producto.\n",
    "4. Scatterplot: Relación entre UnitPrice y TotalAmount.\n",
    "\n",
    "- Bonus: Haz un heatmap de correlaciones entre `quantity`, `UnitPrice` y `TotalAmount`."
   ]
  },
  {
   "cell_type": "code",
   "execution_count": null,
   "id": "1efbae15",
   "metadata": {},
   "outputs": [],
   "source": [
    "# Excersise\n",
    "\n",
    "# Libraries\n",
    "import pandas as pd\n",
    "import matplotlib.pyplot as plt\n",
    "import seaborn as sns\n",
    "\n",
    "# load data\n",
    "df = pd.read_csv('ventas.csv')"
   ]
  },
  {
   "cell_type": "code",
   "execution_count": null,
   "id": "76308dc3",
   "metadata": {},
   "outputs": [],
   "source": [
    "# barplot: TotalAmount peer Región\n",
    "sns.barplot(data=df, x='Region',y='TotalAmount',estimator=sum,errorbar=None)\n",
    "plt.ylabel(\"Total Amount\")\n",
    "plt.title(\"Total Amount peer Región\")\n",
    "plt.show()"
   ]
  },
  {
   "cell_type": "code",
   "execution_count": null,
   "id": "4ea037bd",
   "metadata": {},
   "outputs": [],
   "source": [
    "# temporal line: daily sales evolution\n",
    "df['Date'] = pd.to_datetime(df['Date'])\n",
    "daily_sales = df.groupby('Date')['TotalAmount'].sum().reset_index()\n",
    "sns.lineplot(data=daily_sales, x='Date',y='TotalAmount')\n",
    "plt.title(\"Daily Sales Evolution\")\n",
    "plt.ylabel('Total Amount')\n",
    "plt.xlabel('Day')\n",
    "plt.show()"
   ]
  },
  {
   "cell_type": "code",
   "execution_count": null,
   "id": "c403d2ae",
   "metadata": {},
   "outputs": [],
   "source": [
    "# boxplot: unitary prices peer product distribution\n",
    "sns.boxplot(data=df,x='Product',y='UnitPrice')\n",
    "plt.title(\"Unitary Prices's Distribution Peer Product\")\n",
    "plt.ylabel('Unitary Price')\n",
    "plt.show()"
   ]
  },
  {
   "cell_type": "code",
   "execution_count": null,
   "id": "228da8b4",
   "metadata": {},
   "outputs": [],
   "source": [
    "# Scatterplot: UnitPrice and TotalAmount Relation\n",
    "sns.scatterplot(data=df, x='UnitPrice',y='TotalAmount')\n",
    "plt.title(\"Unitary Prices and Total Amount Relation\")\n",
    "plt.xlabel(\"Unitary Price\")\n",
    "plt.ylabel(\"Total Amount\")\n",
    "plt.show()"
   ]
  },
  {
   "cell_type": "code",
   "execution_count": null,
   "id": "02892ef0",
   "metadata": {},
   "outputs": [],
   "source": [
    "# Bonus: correlation heatmap between Quantity, UnitPrice and TotalAmount\n",
    "corr_matrix = df[['Quantity', 'UnitPrice', 'TotalAmount']].corr()\n",
    "sns.heatmap(corr_matrix, annot=True, cmap='coolwarm')\n",
    "plt.title('Correlation Heatmap')\n",
    "plt.show()"
   ]
  },
  {
   "cell_type": "markdown",
   "id": "06416a51",
   "metadata": {},
   "source": [
    "# 3. Manejo de datos con fechas y horas (series de tiempo)\n",
    "En ciencia de datos, trabajar con fechas y horas es fundamental proque muchos fenómenos son temporales (ventas diarias, clima, tráfico, etc.).\n",
    "En Python, el manejo de fechas se hace principalmente con:\n",
    "* `pandas.to_datetime()` -> convierte cadenas de texto a fechas.\n",
    "* atributos de fecha (`.dt`) -> permiten extraer año, mes, día, hora, día de la semana, etc.\n",
    "* Resampleo (`resample`) -> agrupa datos en intervalos de tiempo (diario, semanal, mensual).\n",
    "* Series de tiempo -> se usan para analizar tendencias, estacionalidades y patrones.\n",
    "\n",
    "## Ejemplo\n",
    "cargamos el dataset `ventas_v2.csv`"
   ]
  },
  {
   "cell_type": "code",
   "execution_count": null,
   "id": "df46da36",
   "metadata": {},
   "outputs": [],
   "source": [
    "import pandas as pd\n",
    "\n",
    "df = pd.read_csv('ventas_v2.csv')"
   ]
  },
  {
   "cell_type": "markdown",
   "id": "5ee4cb0c",
   "metadata": {},
   "source": [
    "Convertir la columna \"Date\" a tipo fecha"
   ]
  },
  {
   "cell_type": "code",
   "execution_count": null,
   "id": "3016cccb",
   "metadata": {},
   "outputs": [],
   "source": [
    "df['Date']=pd.to_datetime(df['Date'])"
   ]
  },
  {
   "cell_type": "markdown",
   "id": "fa19c4d6",
   "metadata": {},
   "source": [
    "#### Ejemplo 1: Extraer la información temporal"
   ]
  },
  {
   "cell_type": "code",
   "execution_count": null,
   "id": "99a3906d",
   "metadata": {},
   "outputs": [],
   "source": [
    "df['Year']= df['Date'].dt.year\n",
    "df['Month']= df['Date'].dt.month\n",
    "df['DayOfWeek'] = df['Date'].dt.day_name()\n",
    "\n",
    "print(df[[\"Date\",\"Year\", \"Month\", \"DayOfWeek\"]].head())"
   ]
  },
  {
   "cell_type": "markdown",
   "id": "729fb60b",
   "metadata": {},
   "source": [
    "#### Ejemplo 2: Ventas Diarias"
   ]
  },
  {
   "cell_type": "code",
   "execution_count": null,
   "id": "8d010718",
   "metadata": {},
   "outputs": [],
   "source": [
    "ventas_diarias = df.groupby('Date')['TotalAmount'].sum()\n",
    "print(ventas_diarias.head())"
   ]
  },
  {
   "cell_type": "markdown",
   "id": "34a74236",
   "metadata": {},
   "source": [
    "#### Ejemplo 3: Resampleo (agrupar por meses)"
   ]
  },
  {
   "cell_type": "code",
   "execution_count": null,
   "id": "7b792990",
   "metadata": {},
   "outputs": [],
   "source": [
    "ventas_mensuales = df.resample(\"M\", on='Date')[\"TotalAmount\"].sum()\n",
    "print(ventas_mensuales)"
   ]
  },
  {
   "cell_type": "markdown",
   "id": "837035d4",
   "metadata": {},
   "source": [
    "#### Ejemplo 5: Visualización de serie de tiempo"
   ]
  },
  {
   "cell_type": "code",
   "execution_count": null,
   "id": "f95785d9",
   "metadata": {},
   "outputs": [],
   "source": [
    "import matplotlib.pyplot as plt\n",
    "\n",
    "ventas_diarias.plot(figsize=(10,4), marker=\"o\")\n",
    "plt.title(\"Evolución de ventas diarias\")\n",
    "plt.xlabel(\"Fecha\")\n",
    "plt.ylabel(\"Monto total\")\n",
    "plt.show()"
   ]
  },
  {
   "cell_type": "markdown",
   "id": "5062e990",
   "metadata": {},
   "source": [
    "## Ejercicio de práctica\n",
    "Con tu dataset `ventas_v2.csv`, realiza lo siguiente:\n",
    "1. Convierte la columna Date a formato fecha.\n",
    "2. Calcula las ventas totales por día de la semana (ejemplo: lunes, martes,...).\n",
    "3. Muestra las ventas mensuales (usando `resample`).\n",
    "4. Grafíca en un line plot la evolución de las ventas diarias.\n",
    "5. Bonus: Encuentra cuál fue el día con mayor venta total.\n"
   ]
  },
  {
   "cell_type": "code",
   "execution_count": null,
   "id": "29733904",
   "metadata": {},
   "outputs": [],
   "source": [
    "# Excercise\n",
    "\n",
    "# Libraries\n",
    "import pandas as pd\n",
    "import seaborn as sns\n",
    "import matplotlib.pyplot as plt\n",
    "\n",
    "# load the data\n",
    "df = pd.read_csv('ventas_v2.csv')"
   ]
  },
  {
   "cell_type": "code",
   "execution_count": null,
   "id": "cf781440",
   "metadata": {},
   "outputs": [],
   "source": [
    "# Trasform 'Date' column in date format\n",
    "df['Date'] = pd.to_datetime(df['Date'])"
   ]
  },
  {
   "cell_type": "code",
   "execution_count": null,
   "id": "07f02704",
   "metadata": {},
   "outputs": [],
   "source": [
    "# Calculate total sales peer weekday\n",
    "total_sales_peer_day = df.groupby(df['Date'].dt.day_name())['TotalAmount'].sum()\n",
    "\n",
    "print(total_sales_peer_day)\n",
    "\n",
    "# ordering by day\n",
    "weekday_order = ['Monday', 'Tuesday', 'Wednesday', 'Thursday', 'Friday', 'Saturday', 'Sunday']\n",
    "total_sales_peer_day = df.groupby(pd.Categorical(df['Date'].dt.day_name(), categories=weekday_order, ordered=True))['TotalAmount'].sum()\n",
    "print(total_sales_peer_day)"
   ]
  },
  {
   "cell_type": "code",
   "execution_count": null,
   "id": "1e5c12bb",
   "metadata": {},
   "outputs": [],
   "source": [
    "# Calculate monthly sales using resample\n",
    "monthly_sales = df.resample(\"M\",on='Date')['TotalAmount'].sum()\n",
    "\n",
    "print(monthly_sales)"
   ]
  },
  {
   "cell_type": "code",
   "execution_count": null,
   "id": "ee17a6bd",
   "metadata": {},
   "outputs": [],
   "source": [
    "# Graphing a line plot daily sales evolution\n",
    "daily_sales = df.groupby('Date')['TotalAmount'].sum()\n",
    "sns.lineplot(data=daily_sales.reset_index(), x='Date', y='TotalAmount', marker='o')\n",
    "plt.title(\"Daily Sales Evolution\")\n",
    "plt.xlabel(\"Date\")\n",
    "plt.ylabel(\"Total Amount\")\n",
    "plt.show()"
   ]
  },
  {
   "cell_type": "code",
   "execution_count": null,
   "id": "854e16fb",
   "metadata": {},
   "outputs": [],
   "source": [
    "# Bonus: what is the day that has more total sales?\n",
    "day_with_more_sales = total_sales_peer_day.sort_values(ascending=False).head(1)\n",
    "\n",
    "print(day_with_more_sales)\n",
    "\n",
    "# other way\n",
    "day_with_max_sales = df.groupby('Date')['TotalAmount'].sum().idxmax()\n",
    "print(f\"Day with highest sales: {day_with_max_sales}\")"
   ]
  },
  {
   "cell_type": "markdown",
   "id": "fae6aada",
   "metadata": {},
   "source": [
    "# 4. Lectura de diferentes formatos (CSV, Excel, SQL)\n",
    "En Data Science, los datos pueden venir de múltiples fuentes. Python ofrece varias librerías para trabajar con ellos:\n",
    "\n",
    "## 1. CSV (Comma Separate Values)\n",
    "* Es el formato más común y ligero.\n",
    "* Se trabaja con `pandas.read_csv('filename.csv')`.\n",
    "* Muy usado para datasets pequeños y medianos.\n",
    "\n",
    "## 2. Excel (.xlsx, .xls)\n",
    "* Se trabaja con `pandas.read_excel('filename.xlsx/xls)`.\n",
    "* Permite manejar hojas múltiples con el parámetro `sheet_name`.\n",
    "* Necesita instalar librerías adicionales como `openpyxl`.\n",
    "\n",
    "## 3. SQL (Bases de datos relacionales)\n",
    "* Se trabaja con `pandas.read_sql('query',conexion)`.\n",
    "* se conecta a bases de datos (PostgreSQL, MySQL, SQLite, etc.) usando `sqlalchemy` o `sqlite3`.\n",
    "* Muy útil cuando los datos están en un servidor y cambian dinámicamente.\n",
    "\n",
    "\n",
    "## Ejemplos\n",
    "\n",
    "### Leer un CSV\n"
   ]
  },
  {
   "cell_type": "code",
   "execution_count": null,
   "id": "b866e875",
   "metadata": {},
   "outputs": [],
   "source": [
    "import pandas as pd\n",
    "\n",
    "# Leer archivos CSV\n",
    "df_csv = pd.read_csv('ventas_v2.csv')\n",
    "\n",
    "print(df_csv.head(3))"
   ]
  },
  {
   "cell_type": "markdown",
   "id": "07d4f226",
   "metadata": {},
   "source": [
    "### Leer un Excel"
   ]
  },
  {
   "cell_type": "code",
   "execution_count": null,
   "id": "d1c48f60",
   "metadata": {},
   "outputs": [],
   "source": [
    "# Leer archivo Excel (requiere openpyxl)\n",
    "df_excel = pd.read_excel(\"transacciones.xlsx\")\n",
    "\n",
    "print(df_excel.head(5))"
   ]
  },
  {
   "cell_type": "markdown",
   "id": "d54c3969",
   "metadata": {},
   "source": [
    "### Leer desde SQL (ejemplo SQLite)"
   ]
  },
  {
   "cell_type": "code",
   "execution_count": null,
   "id": "6033450d",
   "metadata": {},
   "outputs": [],
   "source": [
    "import sqlite3\n",
    "\n",
    "# Crear conexión con SQLite\n",
    "conexion = sqlite3.connect(\"sales.db\")\n",
    "\n",
    "# Leer datos con una consulta SQL\n",
    "df_sql = pd.read_sql(\"SELECT * FROM sales\",conexion)\n",
    "\n",
    "print(df_sql.head())\n",
    "\n",
    "conexion.close()\n"
   ]
  },
  {
   "cell_type": "markdown",
   "id": "b26332cd",
   "metadata": {},
   "source": [
    "## Ejercicio práctico\n",
    "1. Lee el archivo `ventas_v2.csv`.\n",
    "2. Guarda ese mismo dataset en formato Excel y vuelve a leerlo.\n",
    "3. Crea una base de datos SQLite llamada `ventas.db` y guarda la tabla allí.\n",
    "4. Haz una colsulta SQL que muestre solo las transacciones de la región Norte."
   ]
  },
  {
   "cell_type": "code",
   "execution_count": null,
   "id": "668d3217",
   "metadata": {},
   "outputs": [],
   "source": [
    "# Exercise\n",
    "\n",
    "# Libraries\n",
    "import pandas as pd\n",
    "import sqlite3\n",
    "from datetime import datetime, timedelta"
   ]
  },
  {
   "cell_type": "code",
   "execution_count": null,
   "id": "90e62de2",
   "metadata": {},
   "outputs": [],
   "source": [
    "# 1. read the csv file\n",
    "df=pd.read_csv('ventas_v2.csv')\n",
    "print(df.head(3))"
   ]
  },
  {
   "cell_type": "code",
   "execution_count": null,
   "id": "2e9445b7",
   "metadata": {},
   "outputs": [],
   "source": [
    "# 2. Save the same file in excel format and read it\n",
    "df.to_excel(\"ventas_v2_excel.xlsx\",index=False,sheet_name='dataset')\n",
    "df_excel=pd.read_excel('ventas_v2_excel.xlsx', sheet_name=\"dataset\")\n",
    "print(df_excel.head(3))"
   ]
  },
  {
   "cell_type": "code",
   "execution_count": null,
   "id": "58cac9b9",
   "metadata": {},
   "outputs": [],
   "source": [
    "# 3. Create a sql database called 'ventas.db' and save the table\n",
    "\n",
    "## Connect to SQLite database\n",
    "conn = sqlite3.connect('ventas.db')\n",
    "\n",
    "# Export to SQLite\n",
    "df_excel.to_sql('ventas', conn, if_exists='replace', index=False)\n",
    "\n",
    "# Close connection\n",
    "conn.close()"
   ]
  },
  {
   "cell_type": "code",
   "execution_count": null,
   "id": "319cadba",
   "metadata": {},
   "outputs": [],
   "source": [
    "# 4. SQL query where transaction were in North Region\n",
    "\n",
    "connection = sqlite3.connect('ventas.db')\n",
    "\n",
    "df_sql = pd.read_sql(\"SELECT * FROM ventas WHERE Region=='Norte'\",connection)\n",
    "\n",
    "print(df_sql.info())"
   ]
  },
  {
   "cell_type": "markdown",
   "id": "3b94f593",
   "metadata": {},
   "source": [
    "# 4. Mini Proyecto\n",
    "1. Cargar el dataset `supermarket_sales.csv`.\n",
    "2. EDA básico:\n",
    "   * Revisar valores nulos.\n",
    "   * Estadísticas descriptivas.\n",
    "   * Productos más vendidos.\n",
    "   * Región con más ventas.\n",
    "   * Tendencia de ventas mensuales.\n",
    "3. Transformaciones:\n",
    "   * Crear una columna `Year` a partir de `Date`.\n",
    "   * Calcular ventas por categoría.\n",
    "   * Exportar un CSV limpio para usar en Power BI.\n",
    "\n",
    "- Herramientas sugeridas: `pandas`, `matplotlib` y `plotly`."
   ]
  },
  {
   "cell_type": "code",
   "execution_count": 1,
   "id": "15eb31a6",
   "metadata": {},
   "outputs": [],
   "source": [
    "# Mini-Proyect\n",
    "\n",
    "#Libraries\n",
    "import pandas as pd\n",
    "import matplotlib.pyplot as plt\n",
    "import seaborn as sns\n",
    "import numpy as np"
   ]
  },
  {
   "cell_type": "code",
   "execution_count": 2,
   "id": "16c08dae",
   "metadata": {},
   "outputs": [],
   "source": [
    "# 1. Load data\n",
    "df = pd.read_csv(\"supermarket_sales.csv\")\n",
    "df['Date'] = pd.to_datetime(df['Date'],format='%Y-%m-%d')"
   ]
  },
  {
   "cell_type": "code",
   "execution_count": null,
   "id": "071e7af1",
   "metadata": {},
   "outputs": [],
   "source": [
    "# 2. EDA\n",
    "\n",
    "## check the null data\n",
    "print(df.isnull().sum())"
   ]
  },
  {
   "cell_type": "code",
   "execution_count": null,
   "id": "cd11b911",
   "metadata": {},
   "outputs": [],
   "source": [
    "# ## Descriptive Stadistics\n",
    "print(df.describe())"
   ]
  },
  {
   "cell_type": "code",
   "execution_count": null,
   "id": "2826244f",
   "metadata": {},
   "outputs": [],
   "source": [
    "## best-selling product\n",
    "\n",
    "most_sold = df.groupby('Product')['TotalAmount'].sum().sort_values(ascending=False).head(1)\n",
    "\n",
    "print(most_sold)\n",
    "\n",
    "## Region with the most sales\n",
    "best_region_sales = df.groupby('Region')['TotalAmount'].sum().sort_values(ascending=False).head(1)\n",
    "\n",
    "print(best_region_sales)"
   ]
  },
  {
   "cell_type": "code",
   "execution_count": null,
   "id": "ebc0c064",
   "metadata": {},
   "outputs": [],
   "source": [
    "## monthly sales trend\n",
    "df['YearMonth'] = df['Date'].dt.to_period(\"M\")\n",
    "monthly_sales = df.groupby('YearMonth')['TotalAmount'].sum()\n",
    "\n",
    "monthly_sales.plot(figsize=(10,5), kind='line', marker='o')\n",
    "plt.title('Monthly Sales Trend')\n",
    "plt.xlabel('Date - Month')\n",
    "plt.ylabel('Total Amount')\n",
    "plt.grid(True)\n",
    "plt.show()\n",
    "\n",
    "df.drop('YearMonth',axis=1)"
   ]
  },
  {
   "cell_type": "code",
   "execution_count": 3,
   "id": "467bd4ac",
   "metadata": {},
   "outputs": [
    {
     "name": "stdout",
     "output_type": "stream",
     "text": [
      "   TransactionID       Date Region     Store ProductCategory Product  \\\n",
      "0              1 2023-06-19    Sur  Tienda A         Lácteos   Leche   \n",
      "1              2 2023-09-29   Este  Tienda C        Verduras    Papa   \n",
      "2              3 2023-04-30  Norte  Tienda D          Snacks  Nachos   \n",
      "3              4 2023-04-16  Oeste  Tienda D        Verduras    Papa   \n",
      "4              5 2024-12-03  Oeste  Tienda B         Bebidas    Agua   \n",
      "\n",
      "   Quantity  UnitPrice  TotalAmount  Year  \n",
      "0         7      40.03       280.21  2023  \n",
      "1        15      36.87       553.05  2023  \n",
      "2         7      22.85       159.95  2023  \n",
      "3        11      23.50       258.50  2023  \n",
      "4         4       8.00        32.00  2024  \n"
     ]
    }
   ],
   "source": [
    "# 3. Transformations\n",
    "\n",
    "## Create a Year Column\n",
    "df['Year'] = df['Date'].dt.year\n",
    "\n",
    "print(df.head())"
   ]
  },
  {
   "cell_type": "code",
   "execution_count": 5,
   "id": "570ff776",
   "metadata": {},
   "outputs": [
    {
     "name": "stdout",
     "output_type": "stream",
     "text": [
      "ProductCategory\n",
      "Bebidas     13638.50\n",
      "Carnes      16624.55\n",
      "Frutas      15892.40\n",
      "Lácteos     17812.20\n",
      "Snacks      15596.01\n",
      "Verduras    13156.47\n",
      "Name: TotalAmount, dtype: float64\n"
     ]
    }
   ],
   "source": [
    "## Calculate sales by category\n",
    "sales_by_category = df.groupby('ProductCategory')['TotalAmount'].sum()\n",
    "print(sales_by_category)"
   ]
  },
  {
   "cell_type": "code",
   "execution_count": 6,
   "id": "424a34c3",
   "metadata": {},
   "outputs": [],
   "source": [
    "## Export data to clean CSV file\n",
    "\n",
    "df.to_csv('supermarket_sales_python.csv')"
   ]
  }
 ],
 "metadata": {
  "kernelspec": {
   "display_name": "Data_Science_Area",
   "language": "python",
   "name": "python3"
  },
  "language_info": {
   "codemirror_mode": {
    "name": "ipython",
    "version": 3
   },
   "file_extension": ".py",
   "mimetype": "text/x-python",
   "name": "python",
   "nbconvert_exporter": "python",
   "pygments_lexer": "ipython3",
   "version": "3.13.2"
  }
 },
 "nbformat": 4,
 "nbformat_minor": 5
}
