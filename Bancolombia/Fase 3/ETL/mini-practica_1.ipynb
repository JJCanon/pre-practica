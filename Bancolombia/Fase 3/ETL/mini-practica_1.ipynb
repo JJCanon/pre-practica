{
 "cells": [
  {
   "cell_type": "markdown",
   "id": "f232ca44",
   "metadata": {},
   "source": [
    "# Mini Práctica\n",
    "1. Crea un archivo CSV ficticio llamado `clientes.csv` con estas columnas:\n",
    "   * `id`,`nombre`,`ciudad`,`edad`,`correo`.\n",
    "   * Introduce errores: algunos correos mal escritos, edades negativas o nulas, nombres en mayúsculas/minúsculas mezcladas.\n",
    "2. Escribe un script en Python con Pandas que:\n",
    "   * Lea el CSV.\n",
    "   * Corrija los nombres (primera letra en mayúscula).  \n",
    "   * Reemplace las edades negativas o nulas por la media de las edades válidas.\n",
    "   * Valide los correos (si no tienen `@`, márcalos como `\"correo_invalido\"`).\n",
    "   * Guarde el dataset limpio en un nuevo CSV.\n",
    "\n",
    "# Creating dataset"
   ]
  },
  {
   "cell_type": "code",
   "execution_count": 1,
   "id": "ee31a685",
   "metadata": {},
   "outputs": [
    {
     "name": "stdout",
     "output_type": "stream",
     "text": [
      "file clients.csv created succesful\n"
     ]
    }
   ],
   "source": [
    "import pandas as pd\n",
    "import numpy as np\n",
    "\n",
    "# Create sample data with errors\n",
    "data = {\n",
    "    'id': [1, 2, 3, 4, 5, 6, 7, 8, 9, 10],\n",
    "    'name': ['juan PEREZ', 'MARIA lopez', 'carlos', 'ANA maria', 'luis', 'SOFIA', 'pedro gomez', 'laura', 'miguel', 'ELENA'],\n",
    "    'city': ['Madrid', 'Barcelona', 'Valencia', 'Sevilla', 'Madrid', 'Bilbao', 'Valencia', 'Málaga', 'Madrid', 'Zaragoza'],\n",
    "    'age': [25, -5, 30, None, 45, 22, 28, -10, 35, np.nan],\n",
    "    'email': ['juan@email.com', 'maria.email.com', 'carlos@', 'ana@email.com', 'luisemail.com', 'sofia@email.com', 'pedro@', 'laura@email.com', 'miguel@email', 'elena@email.com']\n",
    "}\n",
    "\n",
    "# Create dataframe\n",
    "df = pd.DataFrame(data)\n",
    "\n",
    "# Save to CSV\n",
    "df.to_csv('clients.csv',index=False)\n",
    "print('file clients.csv created succesful')"
   ]
  },
  {
   "cell_type": "markdown",
   "id": "eb4f92b1",
   "metadata": {},
   "source": [
    "# Python Script"
   ]
  },
  {
   "cell_type": "code",
   "execution_count": 2,
   "id": "5bc1ddd7",
   "metadata": {},
   "outputs": [],
   "source": [
    "import pandas as pd\n",
    "import numpy as np\n",
    "\n",
    "# Extraction\n",
    "df = pd.read_csv('clients.csv')\n",
    "\n",
    "# Transformation\n",
    "# fix name\n",
    "df['name'] = df['name'].str.title()\n",
    "# fix age values\n",
    "valid_ages = df[(df['age']>0) & (df['age'].notna())]['age']\n",
    "if len(valid_ages) > 0:\n",
    "    mean_age = valid_ages.mean()\n",
    "    df['age'] = np.where((df['age']<=0)|(df['age'].isna()), mean_age,df['age'])\n",
    "    df['age'] = df['age'].round().astype(int)\n",
    "# fix emails\n",
    "df['email'] = np.where(df['email'].str.contains('@'),df['email'],'invalid_email')\n",
    "\n",
    "# Load data\n",
    "df.to_csv('clients_fixed.csv',index=False)\n"
   ]
  }
 ],
 "metadata": {
  "kernelspec": {
   "display_name": "Data_Science",
   "language": "python",
   "name": "python3"
  },
  "language_info": {
   "codemirror_mode": {
    "name": "ipython",
    "version": 3
   },
   "file_extension": ".py",
   "mimetype": "text/x-python",
   "name": "python",
   "nbconvert_exporter": "python",
   "pygments_lexer": "ipython3",
   "version": "3.13.5"
  }
 },
 "nbformat": 4,
 "nbformat_minor": 5
}
