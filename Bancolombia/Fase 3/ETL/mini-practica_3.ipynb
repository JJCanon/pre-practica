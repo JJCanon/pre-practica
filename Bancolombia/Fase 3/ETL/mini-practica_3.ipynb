{
 "cells": [
  {
   "cell_type": "markdown",
   "id": "cb263faa",
   "metadata": {},
   "source": [
    "### Mini práctica\n",
    "1. Crea una base de datos llamada **etl_practica** en PostgreSQL o MySQL.\n",
    "2. usa tu dataset limpio de `clients.csv`.\n",
    "3. Escribe un script en Python que lo cargue en una tabla llamada **clientes_limpios**.\n",
    "4. Haz una consulta en la base (`SELECT * FROM clean_clients;`) para verificar que los datos fueron insertados."
   ]
  },
  {
   "cell_type": "code",
   "execution_count": 1,
   "id": "d8a85440",
   "metadata": {},
   "outputs": [],
   "source": [
    "import pandas as pd\n",
    "from sqlalchemy import create_engine\n",
    "import urllib.parse\n"
   ]
  },
  {
   "cell_type": "code",
   "execution_count": 13,
   "id": "d970afe9",
   "metadata": {},
   "outputs": [],
   "source": [
    "# Conection data\n",
    "user = 'postgres'\n",
    "password = 'root'\n",
    "host = 'localhost'\n",
    "port = '5432'\n",
    "database = 'postgres'\n",
    "# Create engine conection\n",
    "engine = create_engine(f\"postgresql://{user}:{password}@{host}:{port}/{database}\")"
   ]
  },
  {
   "cell_type": "code",
   "execution_count": 14,
   "id": "2bc49935",
   "metadata": {},
   "outputs": [
    {
     "name": "stdout",
     "output_type": "stream",
     "text": [
      "data loaded in PostgreSQL correctly\n"
     ]
    }
   ],
   "source": [
    "# read data\n",
    "df = pd.read_csv('clean_clients.csv')\n",
    "# load in 'clients' table\n",
    "df.to_sql('clients',engine,if_exists='replace',index=False)\n",
    "print(f\"data loaded in PostgreSQL correctly\")"
   ]
  },
  {
   "cell_type": "code",
   "execution_count": 15,
   "id": "edf37f8b",
   "metadata": {},
   "outputs": [
    {
     "name": "stdout",
     "output_type": "stream",
     "text": [
      "   Unnamed: 0  id         name       city  age            email\n",
      "0           0   1   Juan Perez     Madrid   25   juan@email.com\n",
      "1           1   2  Maria Lopez  Barcelona   31    invalid_email\n",
      "2           2   3       Carlos   Valencia   30    invalid_email\n",
      "3           3   4    Ana Maria    Sevilla   31    ana@email.com\n",
      "4           4   5         Luis     Madrid   45    invalid_email\n",
      "5           5   6        Sofia     Bilbao   22  sofia@email.com\n",
      "6           6   7  Pedro Gomez   Valencia   28    invalid_email\n",
      "7           7   8        Laura     Málaga   31  laura@email.com\n",
      "8           8   9       Miguel     Madrid   35    invalid_email\n",
      "9           9  10        Elena   Zaragoza   31  elena@email.com\n"
     ]
    }
   ],
   "source": [
    "# read data from database\n",
    "query = \"SELECT * FROM clients\"\n",
    "df_result = pd.read_sql(query,engine)\n",
    "\n",
    "# print results\n",
    "print(df_result)"
   ]
  }
 ],
 "metadata": {
  "kernelspec": {
   "display_name": "Data_Science",
   "language": "python",
   "name": "python3"
  },
  "language_info": {
   "codemirror_mode": {
    "name": "ipython",
    "version": 3
   },
   "file_extension": ".py",
   "mimetype": "text/x-python",
   "name": "python",
   "nbconvert_exporter": "python",
   "pygments_lexer": "ipython3",
   "version": "3.13.5"
  }
 },
 "nbformat": 4,
 "nbformat_minor": 5
}
