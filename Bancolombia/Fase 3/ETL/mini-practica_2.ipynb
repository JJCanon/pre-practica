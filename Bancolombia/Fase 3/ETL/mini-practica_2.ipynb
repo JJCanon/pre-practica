{
 "cells": [
  {
   "cell_type": "markdown",
   "id": "7837c3df",
   "metadata": {},
   "source": [
    "### Mini práctica\n",
    "1. Toma tu script de clients.csv que hiciste en el subtema anterior.\n",
    "2. Automatízalo para que se ejecute cada 1 minuto y guarde un archivo nuevo `clean_clients.csv`\n",
    "3. Agrega un `print('ETL running at: 'current_time)` para verificar cuándo corre.\n"
   ]
  },
  {
   "cell_type": "code",
   "execution_count": null,
   "id": "925bdb8e",
   "metadata": {},
   "outputs": [],
   "source": [
    "# Libraries\n",
    "import pandas as pd\n",
    "import numpy as np\n",
    "import schedule\n",
    "import time\n",
    "from datetime import datetime\n",
    "from email_validator import validate_email, EmailNotValidError\n",
    "import re"
   ]
  },
  {
   "cell_type": "code",
   "execution_count": null,
   "id": "81114125",
   "metadata": {},
   "outputs": [],
   "source": [
    "# check email function (one way)\n",
    "def is_valid_mail(email):\n",
    "    try:\n",
    "        validate_email(email)\n",
    "        return True\n",
    "    except EmailNotValidError:\n",
    "        return False"
   ]
  },
  {
   "cell_type": "code",
   "execution_count": null,
   "id": "9d0a631f",
   "metadata": {},
   "outputs": [],
   "source": [
    "# check email function\n",
    "def is_valid_email_regex(email):\n",
    "    if pd.isna(email) or not isinstance(email, str):\n",
    "        return False\n",
    "    pattern = r'^[a-zA-Z0-9._%+-]+@[a-zA-Z0-9.-]+\\.[a-zA-Z]{2,}$'\n",
    "    return bool(re.match(pattern, email))"
   ]
  },
  {
   "cell_type": "code",
   "execution_count": null,
   "id": "dd3d4969",
   "metadata": {},
   "outputs": [],
   "source": [
    "# ETL\n",
    "def etl_job():\n",
    "    current_time = datetime.now().strftime('%H:%M:%S')\n",
    "    print(f'ETL Running at: {current_time}')\n",
    "    # Extract\n",
    "    df = pd.read_csv('clients.csv')\n",
    "    # Transform\n",
    "    df['name'] = df['name'].str.title()\n",
    "    valid_age = df[(df['age']>0) & (df['age'].notna())]['age']\n",
    "    df['age'] = np.where((df['age']<=0)|(df['age'].isna()),valid_age.mean().__round__(),df['age'])\n",
    "    df['age'] = df['age'].astype(int)    \n",
    "    df['email'] = np.where(df['email'].apply(is_valid_email_regex),df['email'],'invalid_email')\n",
    "    \n",
    "    # Load\n",
    "    df.to_csv('clean_clients.csv')"
   ]
  },
  {
   "cell_type": "code",
   "execution_count": null,
   "id": "c062278f",
   "metadata": {},
   "outputs": [],
   "source": [
    "# Programming the script\n",
    "schedule.every(1).minutes.do(etl_job)\n",
    "while True:\n",
    "    schedule.run_pending()\n",
    "    time.sleep(1)\n",
    "    "
   ]
  }
 ],
 "metadata": {
  "kernelspec": {
   "display_name": "Data_Science",
   "language": "python",
   "name": "python3"
  },
  "language_info": {
   "codemirror_mode": {
    "name": "ipython",
    "version": 3
   },
   "file_extension": ".py",
   "mimetype": "text/x-python",
   "name": "python",
   "nbconvert_exporter": "python",
   "pygments_lexer": "ipython3",
   "version": "3.13.5"
  }
 },
 "nbformat": 4,
 "nbformat_minor": 5
}
