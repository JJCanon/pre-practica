{
 "cells": [
  {
   "cell_type": "markdown",
   "id": "6ee675cb",
   "metadata": {},
   "source": [
    "# Student Inferencia Analysis"
   ]
  },
  {
   "cell_type": "code",
   "execution_count": 39,
   "id": "036594d5",
   "metadata": {},
   "outputs": [],
   "source": [
    "# Libraries\n",
    "import pandas as pd\n",
    "import numpy as np\n",
    "from scipy.stats import ttest_ind, f_oneway, chi2_contingency, pearsonr\n",
    "from sklearn.linear_model import LinearRegression\n",
    "import matplotlib.pyplot as plt\n",
    "import seaborn as sns"
   ]
  },
  {
   "cell_type": "markdown",
   "id": "9e2c536f",
   "metadata": {},
   "source": [
    "## 1. Dataset\n",
    "I going to analize [student_performance_data.csv](https://www.kaggle.com/datasets/waqi786/student-performance-dataset)"
   ]
  },
  {
   "cell_type": "code",
   "execution_count": 3,
   "id": "7c01f924",
   "metadata": {},
   "outputs": [
    {
     "name": "stdout",
     "output_type": "stream",
     "text": [
      "<class 'pandas.core.frame.DataFrame'>\n",
      "RangeIndex: 500 entries, 0 to 499\n",
      "Data columns (total 9 columns):\n",
      " #   Column                     Non-Null Count  Dtype  \n",
      "---  ------                     --------------  -----  \n",
      " 0   StudentID                  500 non-null    int64  \n",
      " 1   Gender                     500 non-null    object \n",
      " 2   Age                        500 non-null    int64  \n",
      " 3   StudyHoursPerWeek          500 non-null    int64  \n",
      " 4   AttendanceRate             500 non-null    float64\n",
      " 5   GPA                        500 non-null    float64\n",
      " 6   Major                      500 non-null    object \n",
      " 7   PartTimeJob                500 non-null    object \n",
      " 8   ExtraCurricularActivities  500 non-null    object \n",
      "dtypes: float64(2), int64(3), object(4)\n",
      "memory usage: 35.3+ KB\n",
      "None\n"
     ]
    }
   ],
   "source": [
    "#load the data\n",
    "df = pd.read_csv('student_performance_data.csv')\n",
    "\n",
    "print(df.info())"
   ]
  },
  {
   "cell_type": "code",
   "execution_count": 4,
   "id": "23ddd93a",
   "metadata": {},
   "outputs": [
    {
     "name": "stdout",
     "output_type": "stream",
     "text": [
      "   StudentID  Gender  Age  StudyHoursPerWeek  AttendanceRate   GPA      Major  \\\n",
      "0          1    Male   24                 37           90.75  3.47       Arts   \n",
      "1          2  Female   22                 37           74.90  2.32  Education   \n",
      "2          3    Male   22                 10           53.36  2.38   Business   \n",
      "3          4    Male   24                 10           70.26  3.46    Science   \n",
      "4          5    Male   18                 19           74.87  2.31  Education   \n",
      "\n",
      "  PartTimeJob ExtraCurricularActivities  \n",
      "0         Yes                        No  \n",
      "1          No                        No  \n",
      "2          No                        No  \n",
      "3         Yes                        No  \n",
      "4         Yes                        No  \n"
     ]
    },
    {
     "data": {
      "application/vnd.microsoft.datawrangler.viewer.v0+json": {
       "columns": [
        {
         "name": "StudentID",
         "rawType": "int64",
         "type": "integer"
        },
        {
         "name": "Gender",
         "rawType": "object",
         "type": "string"
        },
        {
         "name": "Age",
         "rawType": "int64",
         "type": "integer"
        },
        {
         "name": "StudyHoursPerWeek",
         "rawType": "int64",
         "type": "integer"
        },
        {
         "name": "AttendanceRate",
         "rawType": "float64",
         "type": "float"
        },
        {
         "name": "GPA",
         "rawType": "float64",
         "type": "float"
        },
        {
         "name": "Major",
         "rawType": "object",
         "type": "string"
        },
        {
         "name": "PartTimeJob",
         "rawType": "object",
         "type": "string"
        },
        {
         "name": "ExtraCurricularActivities",
         "rawType": "object",
         "type": "string"
        }
       ],
       "ref": "d1a32769-6f64-4068-ae7d-05881f24f75f",
       "rows": [
        [
         "1",
         "Male",
         "24",
         "37",
         "90.75",
         "3.47",
         "Arts",
         "Yes",
         "No"
        ],
        [
         "2",
         "Female",
         "22",
         "37",
         "74.9",
         "2.32",
         "Education",
         "No",
         "No"
        ],
        [
         "3",
         "Male",
         "22",
         "10",
         "53.36",
         "2.38",
         "Business",
         "No",
         "No"
        ],
        [
         "4",
         "Male",
         "24",
         "10",
         "70.26",
         "3.46",
         "Science",
         "Yes",
         "No"
        ],
        [
         "5",
         "Male",
         "18",
         "19",
         "74.87",
         "2.31",
         "Education",
         "Yes",
         "No"
        ],
        [
         "6",
         "Female",
         "20",
         "17",
         "86.01",
         "2.47",
         "Business",
         "Yes",
         "No"
        ],
        [
         "7",
         "Male",
         "19",
         "21",
         "55.33",
         "3.93",
         "Arts",
         "No",
         "No"
        ],
        [
         "8",
         "Male",
         "18",
         "14",
         "57.0",
         "2.51",
         "Education",
         "No",
         "No"
        ],
        [
         "9",
         "Male",
         "19",
         "9",
         "63.18",
         "3.32",
         "Business",
         "No",
         "No"
        ],
        [
         "10",
         "Female",
         "24",
         "1",
         "63.32",
         "3.96",
         "Engineering",
         "Yes",
         "Yes"
        ],
        [
         "11",
         "Male",
         "23",
         "13",
         "86.61",
         "2.75",
         "Engineering",
         "Yes",
         "No"
        ],
        [
         "12",
         "Male",
         "19",
         "4",
         "62.54",
         "2.04",
         "Science",
         "No",
         "Yes"
        ],
        [
         "13",
         "Male",
         "20",
         "1",
         "81.65",
         "2.49",
         "Business",
         "No",
         "No"
        ],
        [
         "14",
         "Male",
         "23",
         "32",
         "74.71",
         "3.66",
         "Engineering",
         "Yes",
         "No"
        ],
        [
         "15",
         "Female",
         "19",
         "34",
         "78.66",
         "3.73",
         "Arts",
         "Yes",
         "Yes"
        ],
        [
         "16",
         "Male",
         "24",
         "28",
         "91.91",
         "3.54",
         "Business",
         "Yes",
         "No"
        ],
        [
         "17",
         "Female",
         "23",
         "31",
         "70.22",
         "2.23",
         "Arts",
         "Yes",
         "Yes"
        ],
        [
         "18",
         "Female",
         "24",
         "8",
         "88.55",
         "3.59",
         "Arts",
         "No",
         "Yes"
        ],
        [
         "19",
         "Female",
         "19",
         "39",
         "71.1",
         "3.84",
         "Engineering",
         "Yes",
         "Yes"
        ],
        [
         "20",
         "Male",
         "24",
         "26",
         "67.69",
         "3.2",
         "Business",
         "Yes",
         "No"
        ],
        [
         "21",
         "Female",
         "20",
         "34",
         "97.93",
         "3.88",
         "Education",
         "Yes",
         "No"
        ],
        [
         "22",
         "Male",
         "19",
         "3",
         "59.22",
         "3.65",
         "Engineering",
         "No",
         "No"
        ],
        [
         "23",
         "Female",
         "19",
         "12",
         "54.52",
         "3.33",
         "Engineering",
         "No",
         "Yes"
        ],
        [
         "24",
         "Female",
         "19",
         "1",
         "88.55",
         "3.15",
         "Business",
         "Yes",
         "Yes"
        ],
        [
         "25",
         "Female",
         "18",
         "5",
         "53.41",
         "2.7",
         "Business",
         "Yes",
         "No"
        ],
        [
         "26",
         "Female",
         "18",
         "30",
         "91.85",
         "2.32",
         "Arts",
         "Yes",
         "No"
        ],
        [
         "27",
         "Female",
         "18",
         "30",
         "71.86",
         "3.21",
         "Business",
         "No",
         "No"
        ],
        [
         "28",
         "Female",
         "20",
         "17",
         "95.78",
         "2.64",
         "Arts",
         "No",
         "No"
        ],
        [
         "29",
         "Female",
         "23",
         "23",
         "86.08",
         "3.73",
         "Engineering",
         "No",
         "No"
        ],
        [
         "30",
         "Female",
         "24",
         "15",
         "80.52",
         "3.99",
         "Science",
         "Yes",
         "Yes"
        ],
        [
         "31",
         "Male",
         "22",
         "37",
         "97.47",
         "3.5",
         "Education",
         "No",
         "Yes"
        ],
        [
         "32",
         "Male",
         "19",
         "21",
         "69.83",
         "2.18",
         "Engineering",
         "Yes",
         "Yes"
        ],
        [
         "33",
         "Female",
         "24",
         "14",
         "97.7",
         "2.58",
         "Business",
         "Yes",
         "No"
        ],
        [
         "34",
         "Female",
         "19",
         "2",
         "56.75",
         "2.22",
         "Education",
         "Yes",
         "Yes"
        ],
        [
         "35",
         "Female",
         "20",
         "11",
         "74.19",
         "3.3",
         "Science",
         "No",
         "Yes"
        ],
        [
         "36",
         "Male",
         "19",
         "39",
         "63.5",
         "3.53",
         "Science",
         "Yes",
         "Yes"
        ],
        [
         "37",
         "Female",
         "18",
         "38",
         "76.99",
         "3.85",
         "Arts",
         "No",
         "Yes"
        ],
        [
         "38",
         "Male",
         "22",
         "34",
         "58.1",
         "2.88",
         "Education",
         "No",
         "Yes"
        ],
        [
         "39",
         "Male",
         "21",
         "38",
         "92.08",
         "3.8",
         "Arts",
         "Yes",
         "No"
        ],
        [
         "40",
         "Male",
         "19",
         "34",
         "92.32",
         "3.76",
         "Engineering",
         "Yes",
         "Yes"
        ],
        [
         "41",
         "Male",
         "24",
         "18",
         "97.76",
         "2.63",
         "Education",
         "No",
         "No"
        ],
        [
         "42",
         "Male",
         "18",
         "30",
         "57.73",
         "3.74",
         "Engineering",
         "Yes",
         "No"
        ],
        [
         "43",
         "Female",
         "21",
         "15",
         "81.17",
         "2.75",
         "Arts",
         "No",
         "No"
        ],
        [
         "44",
         "Female",
         "22",
         "27",
         "73.71",
         "2.59",
         "Education",
         "Yes",
         "No"
        ],
        [
         "45",
         "Female",
         "21",
         "34",
         "67.22",
         "3.3",
         "Arts",
         "No",
         "No"
        ],
        [
         "46",
         "Female",
         "18",
         "38",
         "67.58",
         "2.66",
         "Education",
         "No",
         "Yes"
        ],
        [
         "47",
         "Female",
         "23",
         "33",
         "70.64",
         "3.26",
         "Arts",
         "No",
         "Yes"
        ],
        [
         "48",
         "Male",
         "23",
         "24",
         "85.25",
         "3.22",
         "Science",
         "No",
         "No"
        ],
        [
         "49",
         "Female",
         "21",
         "15",
         "79.91",
         "3.13",
         "Arts",
         "Yes",
         "No"
        ],
        [
         "50",
         "Female",
         "20",
         "30",
         "72.98",
         "2.76",
         "Science",
         "Yes",
         "No"
        ]
       ],
       "shape": {
        "columns": 8,
        "rows": 500
       }
      },
      "text/html": [
       "<div>\n",
       "<style scoped>\n",
       "    .dataframe tbody tr th:only-of-type {\n",
       "        vertical-align: middle;\n",
       "    }\n",
       "\n",
       "    .dataframe tbody tr th {\n",
       "        vertical-align: top;\n",
       "    }\n",
       "\n",
       "    .dataframe thead th {\n",
       "        text-align: right;\n",
       "    }\n",
       "</style>\n",
       "<table border=\"1\" class=\"dataframe\">\n",
       "  <thead>\n",
       "    <tr style=\"text-align: right;\">\n",
       "      <th></th>\n",
       "      <th>Gender</th>\n",
       "      <th>Age</th>\n",
       "      <th>StudyHoursPerWeek</th>\n",
       "      <th>AttendanceRate</th>\n",
       "      <th>GPA</th>\n",
       "      <th>Major</th>\n",
       "      <th>PartTimeJob</th>\n",
       "      <th>ExtraCurricularActivities</th>\n",
       "    </tr>\n",
       "    <tr>\n",
       "      <th>StudentID</th>\n",
       "      <th></th>\n",
       "      <th></th>\n",
       "      <th></th>\n",
       "      <th></th>\n",
       "      <th></th>\n",
       "      <th></th>\n",
       "      <th></th>\n",
       "      <th></th>\n",
       "    </tr>\n",
       "  </thead>\n",
       "  <tbody>\n",
       "    <tr>\n",
       "      <th>1</th>\n",
       "      <td>Male</td>\n",
       "      <td>24</td>\n",
       "      <td>37</td>\n",
       "      <td>90.75</td>\n",
       "      <td>3.47</td>\n",
       "      <td>Arts</td>\n",
       "      <td>Yes</td>\n",
       "      <td>No</td>\n",
       "    </tr>\n",
       "    <tr>\n",
       "      <th>2</th>\n",
       "      <td>Female</td>\n",
       "      <td>22</td>\n",
       "      <td>37</td>\n",
       "      <td>74.90</td>\n",
       "      <td>2.32</td>\n",
       "      <td>Education</td>\n",
       "      <td>No</td>\n",
       "      <td>No</td>\n",
       "    </tr>\n",
       "    <tr>\n",
       "      <th>3</th>\n",
       "      <td>Male</td>\n",
       "      <td>22</td>\n",
       "      <td>10</td>\n",
       "      <td>53.36</td>\n",
       "      <td>2.38</td>\n",
       "      <td>Business</td>\n",
       "      <td>No</td>\n",
       "      <td>No</td>\n",
       "    </tr>\n",
       "    <tr>\n",
       "      <th>4</th>\n",
       "      <td>Male</td>\n",
       "      <td>24</td>\n",
       "      <td>10</td>\n",
       "      <td>70.26</td>\n",
       "      <td>3.46</td>\n",
       "      <td>Science</td>\n",
       "      <td>Yes</td>\n",
       "      <td>No</td>\n",
       "    </tr>\n",
       "    <tr>\n",
       "      <th>5</th>\n",
       "      <td>Male</td>\n",
       "      <td>18</td>\n",
       "      <td>19</td>\n",
       "      <td>74.87</td>\n",
       "      <td>2.31</td>\n",
       "      <td>Education</td>\n",
       "      <td>Yes</td>\n",
       "      <td>No</td>\n",
       "    </tr>\n",
       "    <tr>\n",
       "      <th>...</th>\n",
       "      <td>...</td>\n",
       "      <td>...</td>\n",
       "      <td>...</td>\n",
       "      <td>...</td>\n",
       "      <td>...</td>\n",
       "      <td>...</td>\n",
       "      <td>...</td>\n",
       "      <td>...</td>\n",
       "    </tr>\n",
       "    <tr>\n",
       "      <th>496</th>\n",
       "      <td>Male</td>\n",
       "      <td>22</td>\n",
       "      <td>37</td>\n",
       "      <td>76.61</td>\n",
       "      <td>2.97</td>\n",
       "      <td>Science</td>\n",
       "      <td>No</td>\n",
       "      <td>No</td>\n",
       "    </tr>\n",
       "    <tr>\n",
       "      <th>497</th>\n",
       "      <td>Male</td>\n",
       "      <td>23</td>\n",
       "      <td>11</td>\n",
       "      <td>56.29</td>\n",
       "      <td>3.20</td>\n",
       "      <td>Science</td>\n",
       "      <td>No</td>\n",
       "      <td>No</td>\n",
       "    </tr>\n",
       "    <tr>\n",
       "      <th>498</th>\n",
       "      <td>Female</td>\n",
       "      <td>20</td>\n",
       "      <td>6</td>\n",
       "      <td>56.64</td>\n",
       "      <td>3.20</td>\n",
       "      <td>Science</td>\n",
       "      <td>No</td>\n",
       "      <td>Yes</td>\n",
       "    </tr>\n",
       "    <tr>\n",
       "      <th>499</th>\n",
       "      <td>Male</td>\n",
       "      <td>22</td>\n",
       "      <td>18</td>\n",
       "      <td>57.18</td>\n",
       "      <td>2.05</td>\n",
       "      <td>Business</td>\n",
       "      <td>No</td>\n",
       "      <td>Yes</td>\n",
       "    </tr>\n",
       "    <tr>\n",
       "      <th>500</th>\n",
       "      <td>Female</td>\n",
       "      <td>24</td>\n",
       "      <td>21</td>\n",
       "      <td>96.99</td>\n",
       "      <td>2.64</td>\n",
       "      <td>Engineering</td>\n",
       "      <td>No</td>\n",
       "      <td>No</td>\n",
       "    </tr>\n",
       "  </tbody>\n",
       "</table>\n",
       "<p>500 rows × 8 columns</p>\n",
       "</div>"
      ],
      "text/plain": [
       "           Gender  Age  StudyHoursPerWeek  AttendanceRate   GPA        Major  \\\n",
       "StudentID                                                                      \n",
       "1            Male   24                 37           90.75  3.47         Arts   \n",
       "2          Female   22                 37           74.90  2.32    Education   \n",
       "3            Male   22                 10           53.36  2.38     Business   \n",
       "4            Male   24                 10           70.26  3.46      Science   \n",
       "5            Male   18                 19           74.87  2.31    Education   \n",
       "...           ...  ...                ...             ...   ...          ...   \n",
       "496          Male   22                 37           76.61  2.97      Science   \n",
       "497          Male   23                 11           56.29  3.20      Science   \n",
       "498        Female   20                  6           56.64  3.20      Science   \n",
       "499          Male   22                 18           57.18  2.05     Business   \n",
       "500        Female   24                 21           96.99  2.64  Engineering   \n",
       "\n",
       "          PartTimeJob ExtraCurricularActivities  \n",
       "StudentID                                        \n",
       "1                 Yes                        No  \n",
       "2                  No                        No  \n",
       "3                  No                        No  \n",
       "4                 Yes                        No  \n",
       "5                 Yes                        No  \n",
       "...               ...                       ...  \n",
       "496                No                        No  \n",
       "497                No                        No  \n",
       "498                No                       Yes  \n",
       "499                No                       Yes  \n",
       "500                No                        No  \n",
       "\n",
       "[500 rows x 8 columns]"
      ]
     },
     "execution_count": 4,
     "metadata": {},
     "output_type": "execute_result"
    }
   ],
   "source": [
    "# a few registers to see the data\n",
    "print(df.head(5))\n",
    "df.set_index('StudentID')"
   ]
  },
  {
   "cell_type": "markdown",
   "id": "4b6e5eb5",
   "metadata": {},
   "source": [
    "## 2. Hypothesis\n",
    "1. Students with part-time jobs have different GPA than those without (t-test)\n",
    "2. GPA differs across different majors (ANOVA)\n",
    "3. There's an association between gender and having a part-time job (Chi Square)\n",
    "4. Study hours per week is positively correlated with GPA (Correlation)"
   ]
  },
  {
   "cell_type": "code",
   "execution_count": 5,
   "id": "cec67acc",
   "metadata": {},
   "outputs": [],
   "source": [
    "# 1. t-test\n",
    "gpa_with_job = df[df['PartTimeJob']=='Yes']['GPA']\n",
    "gpa_without_job = df[df['PartTimeJob']=='No']['GPA']\n",
    "\n",
    "t_stat, p_value_ttest = ttest_ind(gpa_with_job,gpa_without_job, equal_var=False)"
   ]
  },
  {
   "cell_type": "code",
   "execution_count": 13,
   "id": "436b48c6",
   "metadata": {},
   "outputs": [],
   "source": [
    "# 2. ANOVA\n",
    "majors = df['Major'].unique()\n",
    "gpa_by_major = [group['GPA'].values for name, group in df.groupby('Major')]\n",
    "\n",
    "f_stat, p_value_anova = f_oneway(*gpa_by_major)"
   ]
  },
  {
   "cell_type": "code",
   "execution_count": 10,
   "id": "c6a7d00e",
   "metadata": {},
   "outputs": [],
   "source": [
    "# 3. Chi square\n",
    "contingence_table = pd.crosstab(df['Gender'], df['PartTimeJob'])\n",
    "chi2, p_value_chiSquare, dof, expected = chi2_contingency(contingence_table)"
   ]
  },
  {
   "cell_type": "code",
   "execution_count": 11,
   "id": "cedff257",
   "metadata": {},
   "outputs": [],
   "source": [
    "# 4. Correlation\n",
    "correlation, p_value_correlation = pearsonr(df['StudyHoursPerWeek'],df['GPA'])"
   ]
  },
  {
   "cell_type": "code",
   "execution_count": 38,
   "id": "f34772a0",
   "metadata": {},
   "outputs": [
    {
     "name": "stdout",
     "output_type": "stream",
     "text": [
      "------------------------------------------------------------\n",
      "HYPOTHESIS 1: Students with part-time jobs have different GPA\n",
      " T-test results:\n",
      " statistics = 0.909\n",
      " p_value = 0.3636\n",
      " Mean GPA with job: 3.006\n",
      " Mean GPA without job: 2.961\n",
      "\n",
      "❌ No significant difference in GPA based on part-time job status\n",
      "\n",
      "------------------------------------------------------------\n",
      "HYPOTHESIS 2: HYPOTHESIS 2: GPA differs across majors\n",
      " ANOVA results:\n",
      " F-statistic = 0.490\n",
      " p_value = 0.7434\n",
      "\n",
      "GPA mean by Major:\n",
      "Arts: 3.007\n",
      "Business: 3.036\n",
      "Education: 2.939\n",
      "Engineering: 2.973\n",
      "Science: 2.958\n",
      "\n",
      "❌ No significant differences in GPA across majors\n",
      "\n",
      "------------------------------------------------------------\n",
      "HYPOTHESIS 3: Association between gender and part-time job\n",
      " contingency table:\n",
      " PartTimeJob   No  Yes\n",
      "Gender               \n",
      "Female       120  136\n",
      "Male         112  132 \n",
      " Chi-square results:\n",
      " χ² = 0.016\n",
      " p_value = 0.8978\n",
      " df = 1\n",
      "\n",
      "❌ No significant association between gender and part-time job\n",
      "--------------------------------------------------\n",
      "HYPOTHESIS 4: Correlation between study hours and GPA\n",
      " Pearson correlation:\n",
      " r = 0.092\n",
      " p_value = 0.040397163793951425\n",
      "\n",
      "✅ Significant positive correlation between study hours and GPA\n"
     ]
    }
   ],
   "source": [
    "#output\n",
    "print(\"-\"*60)\n",
    "## HYPOTHESIS 1: Students with part-time jobs have different GPA\n",
    "print(f\"HYPOTHESIS 1: Students with part-time jobs have different GPA\\n T-test results:\\n statistics = {t_stat:.3f}\\n p_value = {p_value_ttest:.4f}\\n\",\n",
    "      f\"Mean GPA with job: {gpa_with_job.mean():.3f}\\n Mean GPA without job: {gpa_without_job.mean():.3f}\\n\")\n",
    "if p_value_ttest < 0.05:\n",
    "    print(\"✅ Significant difference in GPA based on part-time job status\")\n",
    "else:\n",
    "    print(\"❌ No significant difference in GPA based on part-time job status\\n\")\n",
    "print(\"-\"*60)    \n",
    "## HYPOTHESIS 2: Major affects GPA\n",
    "print(f\"HYPOTHESIS 2: HYPOTHESIS 2: GPA differs across majors\\n ANOVA results:\\n F-statistic = {f_stat:.3f}\\n p_value = {p_value_anova:.4f}\\n\")\n",
    "major_gpa_mean=df.groupby('Major')['GPA'].mean()\n",
    "print(\"GPA mean by Major:\")\n",
    "for major,major_mean in major_gpa_mean.items():\n",
    "    print(f\"{major}: {major_mean:.3f}\")\n",
    "print()\n",
    "if p_value_anova < 0.05:\n",
    "    print(\"✅ Significant differences in GPA across majors\")\n",
    "else:\n",
    "    print(\"❌ No significant differences in GPA across majors\\n\")\n",
    "print(\"-\"*60)\n",
    "## HYPOTHESIS 3: Association between gender and part-time job\n",
    "print(f\"HYPOTHESIS 3: Association between gender and part-time job\\n contingency table:\\n\",\n",
    "      contingence_table,f\"\\n Chi-square results:\\n χ² = {chi2:.3f}\\n p_value = {p_value_chiSquare:.4f}\\n df = {dof}\\n\")\n",
    "if p_value_chiSquare < 0.05:\n",
    "    print(\"✅ Significant association between gender and part-time job\")\n",
    "else:\n",
    "    print(\"❌ No significant association between gender and part-time job\")\n",
    "print(\"-\"*50)\n",
    "## HYPOTHESIS 4: Correlation between study hours and GPA\n",
    "print(f\"HYPOTHESIS 4: Correlation between study hours and GPA\\n Pearson correlation:\\n r = {correlation:.3f}\\n p_value = {p_value_correlation}\\n\")    \n",
    "if p_value_correlation < 0.05:\n",
    "    if correlation > 0:\n",
    "        print(\"✅ Significant positive correlation between study hours and GPA\")\n",
    "    else:\n",
    "        print(\"✅ Significant negative correlation between study hours and GPA\")\n",
    "else:\n",
    "    print(\"❌ No significant correlation between study hours and GPA\")"
   ]
  },
  {
   "cell_type": "markdown",
   "id": "4bcc4f05",
   "metadata": {},
   "source": [
    "## 3. Correlation and Regression\n",
    "* Correlation between Study hours per week, Attendance rate and GPA\n",
    "* Simple linear regression GPA ~ Study hours per week\n",
    "* Multiple linear regression GPA ~ Study hours per week + attendance rate"
   ]
  },
  {
   "cell_type": "code",
   "execution_count": null,
   "id": "2693dd19",
   "metadata": {},
   "outputs": [
    {
     "name": "stdout",
     "output_type": "stream",
     "text": [
      "Correlation Matrix:\n",
      "                    StudyHoursPerWeek  AttendanceRate       GPA\n",
      "StudyHoursPerWeek           1.000000        0.095716  0.091700\n",
      "AttendanceRate              0.095716        1.000000  0.060828\n",
      "GPA                         0.091700        0.060828  1.000000\n",
      "\n"
     ]
    }
   ],
   "source": [
    "# Correlation and Regression\n",
    "## Correlation between Study hours per week, Attendace rate and GPA\n",
    "correlation_matrix = df[['StudyHoursPerWeek','AttendanceRate','GPA']].corr(method='pearson')\n",
    "print(f\"Correlation Matrix:\\n {correlation_matrix}\\n\")"
   ]
  },
  {
   "cell_type": "code",
   "execution_count": null,
   "id": "ff471cba",
   "metadata": {},
   "outputs": [
    {
     "name": "stdout",
     "output_type": "stream",
     "text": [
      "Intercept: 2.8956088750309306\n",
      " Coeficient: 0.00450549028824059\n"
     ]
    }
   ],
   "source": [
    "## Simple linear regression GPA ~ Study Hours per Week\n",
    "X_simple = df[[\"StudyHoursPerWeek\"]]\n",
    "y = df['GPA']\n",
    "simpe_linear_model = LinearRegression().fit(X_simple,y)\n",
    "print(f\"Intercept: {simpe_linear_model.intercept_}\\n Coeficient: {simpe_linear_model.coef_[0]}\")"
   ]
  },
  {
   "cell_type": "code",
   "execution_count": 50,
   "id": "4065eab1",
   "metadata": {},
   "outputs": [
    {
     "name": "stdout",
     "output_type": "stream",
     "text": [
      "Intercept: 2.748085958377937\n",
      " Coeficients: [0.00425844 0.0020327 ]\n"
     ]
    }
   ],
   "source": [
    "## Multiple linear regression GPA ~ Study Hours per week + Attendance rate\n",
    "X_multiple = df[['StudyHoursPerWeek','AttendanceRate']]\n",
    "multiple_linear_model = LinearRegression().fit(X_multiple,y)\n",
    "print(f\"Intercept: {multiple_linear_model.intercept_}\\n Coeficients: {multiple_linear_model.coef_}\")"
   ]
  },
  {
   "cell_type": "markdown",
   "id": "7d48a826",
   "metadata": {},
   "source": [
    "## 5. Conclusions\n",
    "1. there is not influence in the GPA if a student has or hasn't a part time job.\n",
    "2. the majors don't affect the GPA in the students.\n",
    "3. there is no relation between student gender and if has part time job.\n",
    "4. there is significant positive correlation between study hours and GPA\n",
    "5. all correlations are positive but very weak. this suggests that while there might be slight tendecies, these variables don't strongly predict each other in isolation.\n",
    "6. if a student studies 0 hours per week, ther predicted GPA would be 2.90 and for each additional hour studied per week, GPA increases by 0.0045 points.\n",
    "7. if a student studies 0 hours per week and zero attendance rate, the GPA would be 2.7481 and each additional study hour increases by 0.0043, controlling for attendance and each percentage point increase in attendance increases GPA by 0.0020 points, controlling for study hours."
   ]
  }
 ],
 "metadata": {
  "kernelspec": {
   "display_name": "Data_Science",
   "language": "python",
   "name": "python3"
  },
  "language_info": {
   "codemirror_mode": {
    "name": "ipython",
    "version": 3
   },
   "file_extension": ".py",
   "mimetype": "text/x-python",
   "name": "python",
   "nbconvert_exporter": "python",
   "pygments_lexer": "ipython3",
   "version": "3.13.5"
  }
 },
 "nbformat": 4,
 "nbformat_minor": 5
}
