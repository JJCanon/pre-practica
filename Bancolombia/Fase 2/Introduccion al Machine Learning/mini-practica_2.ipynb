{
 "cells": [
  {
   "cell_type": "code",
   "execution_count": 17,
   "id": "0b22e0dc",
   "metadata": {},
   "outputs": [],
   "source": [
    "# Libraries\n",
    "import numpy as np\n",
    "import pandas as pd\n",
    "from sklearn.linear_model import LinearRegression, LogisticRegression\n",
    "from sklearn.metrics import mean_squared_error, r2_score, accuracy_score, confusion_matrix, classification_report\n",
    "from sklearn.model_selection import train_test_split"
   ]
  },
  {
   "cell_type": "code",
   "execution_count": 18,
   "id": "dd019b44",
   "metadata": {},
   "outputs": [
    {
     "name": "stdout",
     "output_type": "stream",
     "text": [
      "<class 'pandas.core.frame.DataFrame'>\n",
      "RangeIndex: 500 entries, 0 to 499\n",
      "Data columns (total 9 columns):\n",
      " #   Column                     Non-Null Count  Dtype  \n",
      "---  ------                     --------------  -----  \n",
      " 0   StudentID                  500 non-null    int64  \n",
      " 1   Gender                     500 non-null    object \n",
      " 2   Age                        500 non-null    int64  \n",
      " 3   StudyHoursPerWeek          500 non-null    int64  \n",
      " 4   AttendanceRate             500 non-null    float64\n",
      " 5   GPA                        500 non-null    float64\n",
      " 6   Major                      500 non-null    object \n",
      " 7   PartTimeJob                500 non-null    object \n",
      " 8   ExtraCurricularActivities  500 non-null    object \n",
      "dtypes: float64(2), int64(3), object(4)\n",
      "memory usage: 35.3+ KB\n",
      "None\n"
     ]
    }
   ],
   "source": [
    "# Load dataset\n",
    "df = pd.read_csv('student_performance_data.csv')\n",
    "print(df.info())"
   ]
  },
  {
   "cell_type": "code",
   "execution_count": 19,
   "id": "cd2da556",
   "metadata": {},
   "outputs": [],
   "source": [
    "df = df.set_index('StudentID')"
   ]
  },
  {
   "cell_type": "code",
   "execution_count": 20,
   "id": "47ae2526",
   "metadata": {},
   "outputs": [],
   "source": [
    "# Prepare data\n",
    "X = df[['StudyHoursPerWeek']]\n",
    "y = df['GPA']\n"
   ]
  },
  {
   "cell_type": "code",
   "execution_count": 21,
   "id": "e2434f91",
   "metadata": {},
   "outputs": [
    {
     "name": "stdout",
     "output_type": "stream",
     "text": [
      "MSE: 0.3466765034243234\n",
      " R²: -0.004167138180214858\n",
      "\n"
     ]
    }
   ],
   "source": [
    "# Regressión\n",
    "X_train, X_test, y_train, y_test = train_test_split(X,y,test_size=0.25,random_state=42)\n",
    "# Model\n",
    "model_reg = LinearRegression().fit(X_train, y_train)\n",
    "# Prediction\n",
    "y_pred = model_reg.predict(X_test)\n",
    "# evaluation\n",
    "print(f\"MSE: {mean_squared_error(y_test,y_pred)}\\n R²: {r2_score(y_test,y_pred)}\\n\")"
   ]
  },
  {
   "cell_type": "code",
   "execution_count": null,
   "id": "ad6b2bbe",
   "metadata": {},
   "outputs": [
    {
     "name": "stdout",
     "output_type": "stream",
     "text": [
      "Accuracy: 0.488\n",
      "Confusion matrix:\n",
      "[[25 43]\n",
      " [21 36]]\n",
      "Classification report:\n",
      "              precision    recall  f1-score   support\n",
      "\n",
      "           0       0.54      0.37      0.44        68\n",
      "           1       0.46      0.63      0.53        57\n",
      "\n",
      "    accuracy                           0.49       125\n",
      "   macro avg       0.50      0.50      0.48       125\n",
      "weighted avg       0.50      0.49      0.48       125\n",
      "\n"
     ]
    }
   ],
   "source": [
    "# Classification\n",
    "# prepare data\n",
    "y_class = (y>=3).astype(int)\n",
    "X_train2,X_test2,y_train2,y_test2 = train_test_split(X,y_class,test_size=0.25,random_state=42)\n",
    "# Model\n",
    "model_class = LogisticRegression().fit(X_train2,y_train2)\n",
    "# Prediction\n",
    "y_pred2 = model_class.predict(X_test2)\n",
    "# Evaluation\n",
    "print(f\"Accuracy: {accuracy_score(y_test2,y_pred2)}\")\n",
    "print(\"Confusion matrix:\")\n",
    "print(confusion_matrix(y_test2,y_pred2)) \n",
    "print(\"Classification report:\")\n",
    "print(classification_report(y_test2,y_pred2))\n"
   ]
  }
 ],
 "metadata": {
  "kernelspec": {
   "display_name": "Data_Science",
   "language": "python",
   "name": "python3"
  },
  "language_info": {
   "codemirror_mode": {
    "name": "ipython",
    "version": 3
   },
   "file_extension": ".py",
   "mimetype": "text/x-python",
   "name": "python",
   "nbconvert_exporter": "python",
   "pygments_lexer": "ipython3",
   "version": "3.13.5"
  }
 },
 "nbformat": 4,
 "nbformat_minor": 5
}
